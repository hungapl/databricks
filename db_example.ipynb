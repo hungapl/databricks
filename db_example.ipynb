{
 "cells": [
  {
   "cell_type": "code",
   "execution_count": null,
   "metadata": {
    "collapsed": true
   },
   "outputs": [],
   "source": [
    "HOST = 'clusterxx.postgres.database.azure.com'\n",
    "PORT = '5432'\n",
    "DB = 'db_name'\n",
    "USER = 'user'\n",
    "PASSWORD = 'password'"
   ]
  },
  {
   "cell_type": "code",
   "execution_count": 5,
   "metadata": {},
   "outputs": [
    {
     "name": "stdout",
     "output_type": "stream",
     "text": [
      "Loaded dbutils at /dbfs/lib/dbutils.py\n"
     ]
    }
   ],
   "source": [
    "import sys, importlib, types\n",
    "\n",
    "lib_path = \"/dbfs/lib\"\n",
    "\n",
    "if lib_path not in sys.path:\n",
    "  # Add /dbfs/lib to python source search path\n",
    "    sys.path.insert(0, lib_path)\n",
    "    \n",
    "if not isinstance(dbutils, types.ModuleType):\n",
    "    import dbutils\n",
    "else:\n",
    "    # Reload module\n",
    "    importlib.reload(dbutils)\n",
    "\n",
    "print('Loaded dbutils at ' + dbutils.__file__)\n",
    "conn_params = \\\n",
    "{'host': HOST,\n",
    "'port': '5432',\n",
    "'dbname': DB,\n",
    "'user': USER,\n",
    "'password': PASSWORD}"
   ]
  },
  {
   "cell_type": "code",
   "execution_count": 9,
   "metadata": {},
   "outputs": [
    {
     "data": {
      "text/html": [
       "<div>\n",
       "<style scoped>\n",
       "    .dataframe tbody tr th:only-of-type {\n",
       "        vertical-align: middle;\n",
       "    }\n",
       "\n",
       "    .dataframe tbody tr th {\n",
       "        vertical-align: top;\n",
       "    }\n",
       "\n",
       "    .dataframe thead th {\n",
       "        text-align: right;\n",
       "    }\n",
       "</style>\n",
       "<table border=\"1\" class=\"dataframe\">\n",
       "  <thead>\n",
       "    <tr style=\"text-align: right;\">\n",
       "      <th></th>\n",
       "      <th>table_schema</th>\n",
       "      <th>table_name</th>\n",
       "    </tr>\n",
       "  </thead>\n",
       "  <tbody>\n",
       "    <tr>\n",
       "      <th>0</th>\n",
       "      <td>pg_catalog</td>\n",
       "      <td>pg_statistic</td>\n",
       "    </tr>\n",
       "    <tr>\n",
       "      <th>1</th>\n",
       "      <td>pg_catalog</td>\n",
       "      <td>pg_type</td>\n",
       "    </tr>\n",
       "    <tr>\n",
       "      <th>2</th>\n",
       "      <td>pg_catalog</td>\n",
       "      <td>pg_authid</td>\n",
       "    </tr>\n",
       "    <tr>\n",
       "      <th>3</th>\n",
       "      <td>pg_catalog</td>\n",
       "      <td>pg_roles</td>\n",
       "    </tr>\n",
       "    <tr>\n",
       "      <th>4</th>\n",
       "      <td>pg_catalog</td>\n",
       "      <td>pg_shadow</td>\n",
       "    </tr>\n",
       "  </tbody>\n",
       "</table>\n",
       "</div>"
      ],
      "text/plain": [
       "  table_schema    table_name\n",
       "0   pg_catalog  pg_statistic\n",
       "1   pg_catalog       pg_type\n",
       "2   pg_catalog     pg_authid\n",
       "3   pg_catalog      pg_roles\n",
       "4   pg_catalog     pg_shadow"
      ]
     },
     "execution_count": 9,
     "metadata": {},
     "output_type": "execute_result"
    }
   ],
   "source": [
    "dbutils.db_query_as_df(conn_params, \"select table_schema, table_name from information_schema.tables where table_name like %s limit 5\", ['pg%'])"
   ]
  }
 ],
 "metadata": {
  "kernelspec": {
   "display_name": "Python 3",
   "language": "python",
   "name": "python3"
  },
  "language_info": {
   "codemirror_mode": {
    "name": "ipython",
    "version": 3
   },
   "file_extension": ".py",
   "mimetype": "text/x-python",
   "name": "python",
   "nbconvert_exporter": "python",
   "pygments_lexer": "ipython3",
   "version": "3.6.1"
  }
 },
 "nbformat": 4,
 "nbformat_minor": 2
}
