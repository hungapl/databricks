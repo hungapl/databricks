{
 "cells": [
  {
   "cell_type": "code",
   "execution_count": 5,
   "metadata": {},
   "outputs": [
    {
     "name": "stdout",
     "output_type": "stream",
     "text": [
      "Overwriting /dbfs/lib/dbutils.py\n"
     ]
    }
   ],
   "source": [
    "%%writefile /dbfs/lib/dbutils.py\n",
    "\n",
    "import psycopg2, logging\n",
    "import psycopg2.extras\n",
    "import pandas as pd\n",
    "\n",
    "def db_query(conn_params, query, query_params, my_parser, logger=None):\n",
    "    [conn, cur] = execute_query(conn_params, query, query_params, logger)\n",
    "    df = my_parser(cur)\n",
    "    cur.close()\n",
    "    conn.close()\n",
    "    return df\n",
    "\n",
    "\n",
    "def db_query_as_df(conn_params, query, query_params, logger=None):\n",
    "    [conn, cur] = execute_query(conn_params, query, query_params, logger)\n",
    "    df = pd.DataFrame(cur.fetchall())\n",
    "    df.columns = [desc[0] for desc in cur.description]\n",
    "    cur.close()\n",
    "    conn.close()\n",
    "    return df\n",
    "\n",
    "\n",
    "def execute_query(conn_params, query, query_params, logger=None):\n",
    "    conn = psycopg2.connect(**conn_params)\n",
    "    cur = conn.cursor()\n",
    "    if logger is not None:\n",
    "        logger.log(logging.DEBUG, \"query=\" + query + \",query_params=\" + str(query_params))\n",
    "    cur.execute(query, query_params)\n",
    "    return [conn, cur]\n",
    "\n",
    "\n",
    "def db_insert(conn_params, sql, values):\n",
    "    import psycopg2.extras\n",
    "    conn = psycopg2.connect(**conn_params)\n",
    "    cur = conn.cursor()\n",
    "    psycopg2.extras.execute_values(cur, sql, values, template=None, page_size=500)\n",
    "    conn.commit()"
   ]
  }
 ],
 "metadata": {
  "kernelspec": {
   "display_name": "Python 3",
   "language": "python",
   "name": "python3"
  },
  "language_info": {
   "codemirror_mode": {
    "name": "ipython",
    "version": 3
   },
   "file_extension": ".py",
   "mimetype": "text/x-python",
   "name": "python",
   "nbconvert_exporter": "python",
   "pygments_lexer": "ipython3",
   "version": "3.6.1"
  }
 },
 "nbformat": 4,
 "nbformat_minor": 2
}
