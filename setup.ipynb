{
 "cells": [
  {
   "cell_type": "code",
   "execution_count": 6,
   "metadata": {},
   "outputs": [],
   "source": [
    "import os\n",
    "\n",
    "lib_path = \"/dbfs/lib\"\n",
    "\n",
    "# Create 'lib' package directory if not exists\n",
    "if not os.path.isdir(lib_path):\n",
    "    os.mkdir(lib_path)\n",
    "\n",
    "init_file = lib_path + \"/__init__.py\"\n",
    "with open(init_file, 'a'):\n",
    "    os.utime(init_file, None)\n"
   ]
  }
 ],
 "metadata": {
  "kernelspec": {
   "display_name": "Python 3",
   "language": "python",
   "name": "python3"
  },
  "language_info": {
   "codemirror_mode": {
    "name": "ipython",
    "version": 3
   },
   "file_extension": ".py",
   "mimetype": "text/x-python",
   "name": "python",
   "nbconvert_exporter": "python",
   "pygments_lexer": "ipython3",
   "version": "3.6.1"
  }
 },
 "nbformat": 4,
 "nbformat_minor": 2
}
